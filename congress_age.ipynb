{
 "cells": [
  {
   "cell_type": "code",
   "execution_count": 1,
   "id": "5bcb9cdc",
   "metadata": {},
   "outputs": [],
   "source": [
    "#https://raw.githubusercontent.com/fivethirtyeight/data/master/congress-age/congress-terms.csv\n",
    "import pandas as pd\n",
    "import matplotlib"
   ]
  },
  {
   "cell_type": "code",
   "execution_count": 2,
   "id": "03bfb925",
   "metadata": {},
   "outputs": [
    {
     "name": "stdout",
     "output_type": "stream",
     "text": [
      "   congress chamber bioguide firstname middlename   lastname suffix  \\\n",
      "0        80   house  M000112    Joseph  Jefferson  Mansfield    NaN   \n",
      "1        80   house  D000448    Robert        Lee   Doughton    NaN   \n",
      "2        80   house  S000001    Adolph    Joachim     Sabath    NaN   \n",
      "3        80   house  E000023   Charles     Aubrey      Eaton    NaN   \n",
      "4        80   house  L000296   William        NaN      Lewis    NaN   \n",
      "\n",
      "     birthday state party incumbent   termstart   age  \n",
      "0  1861-02-09    TX     D       Yes  1947-01-03  85.9  \n",
      "1  1863-11-07    NC     D       Yes  1947-01-03  83.2  \n",
      "2  1866-04-04    IL     D       Yes  1947-01-03  80.7  \n",
      "3  1868-03-29    NJ     R       Yes  1947-01-03  78.8  \n",
      "4  1868-09-22    KY     R        No  1947-01-03  78.3  \n"
     ]
    }
   ],
   "source": [
    "file = 'congress-terms.csv'\n",
    "df = pd.read_csv(file)\n",
    "print(df.head())"
   ]
  },
  {
   "cell_type": "code",
   "execution_count": 3,
   "id": "ff56c55d",
   "metadata": {},
   "outputs": [
    {
     "name": "stdout",
     "output_type": "stream",
     "text": [
      "       congress chamber bioguide firstname middlename   lastname suffix  \\\n",
      "18091       113   house  H000067     Ralph         M.       Hall    NaN   \n",
      "18092       113   house  D000355      John         D.    Dingell    NaN   \n",
      "18093       113   house  C000714      John        NaN    Conyers    Jr.   \n",
      "18094       113   house  S000480    Louise   McIntosh  Slaughter    NaN   \n",
      "18095       113   house  R000053   Charles         B.     Rangel    NaN   \n",
      "\n",
      "         birthday state party incumbent   termstart   age  \n",
      "18091  1923-05-03    TX     R       Yes  2013-01-03  89.7  \n",
      "18092  1926-07-08    MI     D       Yes  2013-01-03  86.5  \n",
      "18093  1929-05-16    MI     D       Yes  2013-01-03  83.6  \n",
      "18094  1929-08-14    NY     D       Yes  2013-01-03  83.4  \n",
      "18095  1930-06-11    NY     D       Yes  2013-01-03  82.6  \n"
     ]
    }
   ],
   "source": [
    "df = df[df['congress'] == 113]\n",
    "print (df.head())"
   ]
  },
  {
   "cell_type": "code",
   "execution_count": 4,
   "id": "4bc79dfe",
   "metadata": {},
   "outputs": [
    {
     "name": "stdout",
     "output_type": "stream",
     "text": [
      "               age\n",
      "chamber           \n",
      "house    56.754214\n",
      "senate   61.286667\n"
     ]
    }
   ],
   "source": [
    "by_chamber_mean = df.groupby('chamber')[['age']].mean()\n",
    "print(by_chamber_mean)"
   ]
  },
  {
   "cell_type": "code",
   "execution_count": 5,
   "id": "fdeea735",
   "metadata": {},
   "outputs": [
    {
     "name": "stdout",
     "output_type": "stream",
     "text": [
      "         age\n",
      "party       \n",
      "D      60.40\n",
      "I      70.05\n",
      "R      56.10\n"
     ]
    }
   ],
   "source": [
    "by_party_median = df.groupby('party')[['age']].median()\n",
    "print(by_party_median)"
   ]
  },
  {
   "cell_type": "code",
   "execution_count": 6,
   "id": "2c816c24",
   "metadata": {},
   "outputs": [
    {
     "data": {
      "text/plain": [
       "<AxesSubplot:title={'center':'Mean age by Party'}, xlabel='Party', ylabel='Mean age'>"
      ]
     },
     "execution_count": 6,
     "metadata": {},
     "output_type": "execute_result"
    },
    {
     "data": {
      "image/png": "[encoded data removed]",
      "text/plain": [
       "<Figure size 432x288 with 1 Axes>"
      ]
     },
     "metadata": {
      "needs_background": "light"
     },
     "output_type": "display_data"
    }
   ],
   "source": [
    "by_party_median.plot(kind = 'bar', title = 'Mean age by Party', ylabel = 'Mean age', xlabel = 'Party')"
   ]
  },
  {
   "cell_type": "code",
   "execution_count": 14,
   "id": "25366f6c",
   "metadata": {},
   "outputs": [
    {
     "name": "stdout",
     "output_type": "stream",
     "text": [
      "   Congress   Age\n",
      "0        93  50.0\n",
      "1        98  54.0\n",
      "2       103  58.2\n",
      "3       108  59.3\n",
      "4       113  61.3\n"
     ]
    },
    {
     "data": {
      "image/png": "[encoded data removed]",
      "text/plain": [
       "<Figure size 432x288 with 1 Axes>"
      ]
     },
     "metadata": {
      "needs_background": "light"
     },
     "output_type": "display_data"
    },
    {
     "data": {
      "image/png": "[encoded data removed]",
      "text/plain": [
       "<Figure size 432x288 with 1 Axes>"
      ]
     },
     "metadata": {
      "needs_background": "light"
     },
     "output_type": "display_data"
    },
    {
     "name": "stdout",
     "output_type": "stream",
     "text": [
      "The parameters of the curve: [ 0.558 -0.914]\n"
     ]
    },
    {
     "data": {
      "text/plain": [
       "[<matplotlib.lines.Line2D at 0x7f980200c5e0>]"
      ]
     },
     "execution_count": 14,
     "metadata": {},
     "output_type": "execute_result"
    },
    {
     "data": {
      "image/png": "[encoded data removed]",
      "text/plain": [
       "<Figure size 432x288 with 1 Axes>"
      ]
     },
     "metadata": {
      "needs_background": "light"
     },
     "output_type": "display_data"
    }
   ],
   "source": [
    "import matplotlib.pyplot as plt\n",
    "import numpy as np\n",
    "Congress = [93,98,103,108,113]\n",
    "Age = [50,54,58.2,59.3,61.3]\n",
    "df = pd.DataFrame(list(zip(Congress, Age)),\n",
    "               columns =['Congress', 'Age'])\n",
    "print(df)\n",
    "df.plot(kind='scatter', y='Age', x='Congress')\n",
    "df.plot(kind='line', y='Age', x='Congress')\n",
    "plt.xlabel('Congress')\n",
    "plt.ylabel('Age')\n",
    "plt.show()\n",
    "X = df['Congress']\n",
    "y = df['Age']\n",
    "\n",
    "\n",
    "theta = np.polyfit(X, y, 1)\n",
    "\n",
    "print(f'The parameters of the curve: {theta}')\n",
    "\n",
    "\n",
    "y_line=theta[1] + theta[0] * X\n",
    "\n",
    "plt.scatter(X, y)\n",
    "plt.plot(X, y_line, 'r')"
   ]
  },
  {
   "cell_type": "code",
   "execution_count": null,
   "id": "13d0cf76",
   "metadata": {},
   "outputs": [],
   "source": []
  }
 ],
 "metadata": {
  "kernelspec": {
   "display_name": "Python 3 (ipykernel)",
   "language": "python",
   "name": "python3"
  },
  "language_info": {
   "codemirror_mode": {
    "name": "ipython",
    "version": 3
   },
   "file_extension": ".py",
   "mimetype": "text/x-python",
   "name": "python",
   "nbconvert_exporter": "python",
   "pygments_lexer": "ipython3",
   "version": "3.9.12"
  }
 },
 "nbformat": 4,
 "nbformat_minor": 5
}
